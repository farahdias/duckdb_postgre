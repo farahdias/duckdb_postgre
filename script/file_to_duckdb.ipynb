{
 "cells": [
  {
   "cell_type": "code",
   "execution_count": null,
   "id": "81691012-8137-4048-8087-0470f0648782",
   "metadata": {},
   "outputs": [],
   "source": [
    "path_folder = '../resource/stock_market_data'"
   ]
  },
  {
   "cell_type": "code",
   "execution_count": 1,
   "id": "14fb8cbf-7ad5-4515-a61e-35d0bc88ca78",
   "metadata": {},
   "outputs": [
    {
     "name": "stdout",
     "output_type": "stream",
     "text": [
      "         Date        Low       Open      Volume       High      Close  \\\n",
      "0  1999-11-18  28.612303  32.546494  62546380.0  35.765381  31.473534   \n",
      "1  1999-11-19  28.478184  30.713518  15234146.0  30.758226  28.880545   \n",
      "2  1999-11-22  28.657009  29.551144   6577870.0  31.473534  31.473534   \n",
      "3  1999-11-23  28.612303  30.400572   5975611.0  31.205294  28.612303   \n",
      "4  1999-11-24  28.612303  28.701717   4843231.0  29.998213  29.372318   \n",
      "..        ...        ...        ...         ...        ...        ...   \n",
      "95 2000-04-05  64.467094  66.344780   2109163.0  71.441345  69.340126   \n",
      "96 2000-04-06  69.429543  70.368385   1375073.0  75.107300  75.107300   \n",
      "97 2000-04-07  76.582619  76.895561   2975224.0  89.413445  87.267525   \n",
      "98 2000-04-10  75.375534  87.267525   2956071.0  87.267525  76.627327   \n",
      "99 2000-04-11  71.217812  72.246063   1896107.0  75.017883  72.201363   \n",
      "\n",
      "    Adjusted Close  \n",
      "0        27.066582  \n",
      "1        24.836662  \n",
      "2        27.066582  \n",
      "3        24.605980  \n",
      "4        25.259573  \n",
      "..             ...  \n",
      "95       59.631050  \n",
      "96       64.590706  \n",
      "97       75.048233  \n",
      "98       65.897896  \n",
      "99       62.091671  \n",
      "\n",
      "[100 rows x 7 columns]\n"
     ]
    }
   ],
   "source": [
    "import duckdb\n",
    "\n",
    "# Create a DuckDB connection\n",
    "conn = duckdb.connect()\n",
    "directory_path = 'C:\\\\Users\\\\diasn\\\\Documents\\\\medium\\\\duckdb_postgre\\\\resources\\\\stock_market_data\\\\forbes2000\\\\csv\\\\*.csv'\n",
    "\n",
    "# Create a table from all CSV files\n",
    "conn.execute(f\"CREATE TABLE my_table AS SELECT * FROM read_csv('{directory_path}', union_by_name=True)\")\n",
    "\n",
    "# Execute a query\n",
    "result = conn.execute(\"SELECT * FROM my_table limit 100\").fetchdf()\n",
    "\n",
    "# Print the result\n",
    "print(result)\n"
   ]
  },
  {
   "cell_type": "code",
   "execution_count": 2,
   "id": "a66da968-4186-4cde-9919-fbbcb8b9b1a3",
   "metadata": {},
   "outputs": [
    {
     "ename": "ModuleNotFoundError",
     "evalue": "No module named 'duckdb'",
     "output_type": "error",
     "traceback": [
      "\u001b[1;31m---------------------------------------------------------------------------\u001b[0m",
      "\u001b[1;31mModuleNotFoundError\u001b[0m                       Traceback (most recent call last)",
      "Cell \u001b[1;32mIn[2], line 1\u001b[0m\n\u001b[1;32m----> 1\u001b[0m \u001b[38;5;28;01mimport\u001b[39;00m \u001b[38;5;21;01mduckdb\u001b[39;00m\n\u001b[0;32m      2\u001b[0m \u001b[38;5;28;01mimport\u001b[39;00m \u001b[38;5;21;01mglob\u001b[39;00m\n\u001b[0;32m      4\u001b[0m \u001b[38;5;66;03m# Specify the path to your CSV files\u001b[39;00m\n",
      "\u001b[1;31mModuleNotFoundError\u001b[0m: No module named 'duckdb'"
     ]
    }
   ],
   "source": [
    "import duckdb\n",
    "import glob\n",
    "\n",
    "# Specify the path to your CSV files\n",
    "path_to_files = 'C:\\\\Users\\\\diasn\\\\Documents\\\\medium\\\\duckdb_postgre\\\\resources\\\\stock_market_data\\\\forbes2000\\\\csv\\\\*.csv'\n",
    "\n",
    "# Use glob to find all CSV files in the specified directory\n",
    "files = glob.glob(path_to_files)"
   ]
  },
  {
   "cell_type": "code",
   "execution_count": null,
   "id": "2e37610a-979a-4b11-8298-539be5b56170",
   "metadata": {},
   "outputs": [],
   "source": [
    "import os\n",
    "file_name = os.path.basename(\"C:\\\\Users\\\\diasn\\\\Documents\\\\medium\\\\duckdb_postgre\\\\resources\\\\stock_market_data\\\\forbes2000\\\\csv\\\\A.csv\")"
   ]
  },
  {
   "cell_type": "code",
   "execution_count": null,
   "id": "3ce3832e-cea2-4f8d-994b-6e7982510b30",
   "metadata": {},
   "outputs": [],
   "source": [
    "file_name = []\n",
    "for file_path in files:\n",
    "    file_base = os.path.basename(file_path)\n",
    "    file_name.append(file_base)"
   ]
  },
  {
   "cell_type": "code",
   "execution_count": null,
   "id": "cfeb3b4b-91e4-48e9-af0a-304e5b784aae",
   "metadata": {},
   "outputs": [],
   "source": [
    "#put 100 companies files for memory issue\n",
    "files = files[:100]\n",
    "file_name = file_name[:100]"
   ]
  },
  {
   "cell_type": "code",
   "execution_count": null,
   "id": "77a1b169-3d93-481b-8d76-a53c4e0ae20d",
   "metadata": {},
   "outputs": [],
   "source": [
    "conn = duckdb.connect()\n",
    "queries = []\n",
    "for path_file, file in zip(files, file_name):\n",
    "    queries.append(f\"SELECT replace('{file}','.csv','') AS company_id, *  FROM read_csv('{path_file}', union_by_name=True)\")\n",
    "    \n",
    "final_query = \" UNION ALL \".join(queries)\n",
    "conn.execute(f\"SET max_expression_depth TO 2000\")\n",
    "conn.execute(f\"CREATE TABLE forbes2000_from_csv AS {final_query}\")\n",
    "\n"
   ]
  },
  {
   "cell_type": "code",
   "execution_count": null,
   "id": "da19e4d5-b176-4dc7-9a2c-20e61e3c93af",
   "metadata": {},
   "outputs": [],
   "source": [
    "results = conn.execute(\"SELECT * from forbes2000_from_csv limit 100\").fetchdf()\n",
    "results.head(10)"
   ]
  },
  {
   "cell_type": "code",
   "execution_count": null,
   "id": "4c2c6dd3-dafb-40b3-a1dd-888014b7bca4",
   "metadata": {},
   "outputs": [],
   "source": [
    "conn.close()"
   ]
  },
  {
   "cell_type": "code",
   "execution_count": null,
   "id": "ebac8a9d-0bb9-42cf-8f8a-24972bbefc5f",
   "metadata": {},
   "outputs": [],
   "source": [
    "# Create a DuckDB connection\n",
    "\n",
    "\n",
    "# Initialize an empty list to hold queries\n",
    "queries = []\n",
    "\n",
    "# Construct the query for each file to include the filename\n",
    "for file in files:\n",
    "    queries.append(f\"SELECT *, '{file}' AS filename FROM read_csv_auto('{file}')\")\n",
    "\n",
    "# Combine all queries with UNION ALL\n",
    "final_query = \" UNION ALL \".join(queries)\n",
    "\n",
    "# Execute the combined query\n",
    "result_df = conn.execute(final_query).fetchdf()\n"
   ]
  },
  {
   "cell_type": "code",
   "execution_count": 4,
   "id": "5abf2dbb-bb10-483e-9738-b5ace2170cab",
   "metadata": {},
   "outputs": [],
   "source": [
    "test = 'C:\\\\Users\\\\diasn\\\\Documents\\\\medium\\\\duckdb_postgre\\\\resources\\\\stock_market_data\\\\forbes2000\\\\json\\\\A.json'"
   ]
  },
  {
   "cell_type": "code",
   "execution_count": 39,
   "id": "5b9e2875-e9b1-4d5a-b220-c5df6479f2f8",
   "metadata": {},
   "outputs": [],
   "source": [
    "# Replace 'your_file.json' with the path to your JSON file\n",
    "result = conn.execute(\n",
    "    \"\"\"\n",
    "    SELECT \n",
    "        result[0].meta.currency AS currency,\n",
    "        result[0].meta.symbol AS symbol,\n",
    "        result[0].meta.exchangeName AS exchange_name,\n",
    "        result[0].meta.instrumentType AS instrument_type,\n",
    "        result[0].meta.firstTradeDate AS first_trade_date,\n",
    "        result[0].meta.regularMarketTime AS regular_market_time,\n",
    "        result[0].meta.regularMarketPrice AS regular_market_price,\n",
    "        result[0].meta.chartPreviousClose AS chart_previous_close\n",
    "    FROM (\n",
    "        SELECT chart.result FROM read_json('C:\\\\Users\\\\diasn\\\\Documents\\\\medium\\\\duckdb_postgre\\\\resources\\\\stock_market_data\\\\forbes2000\\\\json\\\\AA-P.json') AS chart\n",
    "    ) AS nested_json\n",
    "    \"\"\")"
   ]
  },
  {
   "cell_type": "code",
   "execution_count": 50,
   "id": "53564396-e6a3-49dc-b486-c1e54edabffc",
   "metadata": {},
   "outputs": [
    {
     "name": "stdout",
     "output_type": "stream",
     "text": [
      "1.1.1\n"
     ]
    }
   ],
   "source": [
    "import duckdb\n",
    "print(duckdb.__version__)"
   ]
  },
  {
   "cell_type": "code",
   "execution_count": 40,
   "id": "0c254200-95d7-437f-9539-6ca3207ad293",
   "metadata": {},
   "outputs": [
    {
     "data": {
      "text/html": [
       "<div>\n",
       "<style scoped>\n",
       "    .dataframe tbody tr th:only-of-type {\n",
       "        vertical-align: middle;\n",
       "    }\n",
       "\n",
       "    .dataframe tbody tr th {\n",
       "        vertical-align: top;\n",
       "    }\n",
       "\n",
       "    .dataframe thead th {\n",
       "        text-align: right;\n",
       "    }\n",
       "</style>\n",
       "<table border=\"1\" class=\"dataframe\">\n",
       "  <thead>\n",
       "    <tr style=\"text-align: right;\">\n",
       "      <th></th>\n",
       "      <th>currency</th>\n",
       "      <th>symbol</th>\n",
       "      <th>exchange_name</th>\n",
       "      <th>instrument_type</th>\n",
       "      <th>first_trade_date</th>\n",
       "      <th>regular_market_time</th>\n",
       "      <th>regular_market_price</th>\n",
       "      <th>chart_previous_close</th>\n",
       "    </tr>\n",
       "  </thead>\n",
       "  <tbody>\n",
       "    <tr>\n",
       "      <th>0</th>\n",
       "      <td>None</td>\n",
       "      <td>None</td>\n",
       "      <td>None</td>\n",
       "      <td>None</td>\n",
       "      <td>NaN</td>\n",
       "      <td>NaN</td>\n",
       "      <td>NaN</td>\n",
       "      <td>NaN</td>\n",
       "    </tr>\n",
       "  </tbody>\n",
       "</table>\n",
       "</div>"
      ],
      "text/plain": [
       "  currency symbol exchange_name instrument_type  first_trade_date  \\\n",
       "0     None   None          None            None               NaN   \n",
       "\n",
       "   regular_market_time  regular_market_price  chart_previous_close  \n",
       "0                  NaN                   NaN                   NaN  "
      ]
     },
     "execution_count": 40,
     "metadata": {},
     "output_type": "execute_result"
    }
   ],
   "source": [
    "result.fetchdf()"
   ]
  },
  {
   "cell_type": "code",
   "execution_count": 71,
   "id": "abc538bc-2560-4224-8454-5fd8ff950175",
   "metadata": {},
   "outputs": [
    {
     "name": "stdout",
     "output_type": "stream",
     "text": [
      "Loaded JSON Data:\n",
      "{\n",
      "  \"chart\": {\n",
      "    \"result\": [\n",
      "      {\n",
      "        \"meta\": {\n",
      "          \"currency\": null,\n",
      "          \"symbol\": \"AA-P\",\n",
      "          \"exchangeName\": \"YHD\",\n",
      "          \"instrumentType\": \"MUTUALFUND\",\n",
      "          \"firstTradeDate\": null,\n",
      "          \"regularMarketTime\": 1561759658,\n",
      "          \"gmtoffset\": -18000,\n",
      "          \"timezone\": \"EST\",\n",
      "          \"exchangeTimezoneName\": \"America/New_York\",\n",
      "          \"priceHint\": 2,\n",
      "          \"currentTradingPeriod\": {\n",
      "            \"pre\": {\n",
      "              \"timezone\": \"EST\",\n",
      "              \"start\": 1670835600,\n",
      "              \"end\": 1670855400,\n",
      "              \"gmtoffset\": -18000\n",
      "            },\n",
      "            \"regular\": {\n",
      "              \"timezone\": \"EST\",\n",
      "              \"start\": 1670855400,\n",
      "              \"end\": 1670878800,\n",
      "              \"gmtoffset\": -18000\n",
      "            },\n",
      "            \"post\": {\n",
      "              \"timezone\": \"EST\",\n",
      "              \"start\": 1670878800,\n",
      "              \"end\": 1670893200,\n",
      "              \"gmtoffset\": -18000\n",
      "            }\n",
      "          },\n",
      "          \"dataGranularity\": \"1d\",\n",
      "          \"range\": \"\",\n",
      "          \"validRanges\": [\n",
      "            \"1mo\",\n",
      "            \"3mo\",\n",
      "            \"6mo\",\n",
      "            \"ytd\",\n",
      "            \"1y\",\n",
      "            \"2y\",\n",
      "            \"5y\",\n",
      "            \"10y\",\n",
      "            \"max\"\n",
      "          ]\n",
      "        },\n",
      "        \"indicators\": {\n",
      "          \"quote\": [\n",
      "            {}\n",
      "          ],\n",
      "          \"adjclose\": [\n",
      "            {}\n",
      "          ]\n",
      "        }\n",
      "      }\n",
      "    ],\n",
      "    \"error\": null\n",
      "  }\n",
      "}\n",
      "Raw Data from Table:\n",
      "                                               chart\n",
      "0  {'result': [{'meta': {'currency': None, 'symbo...\n",
      "Nested Query Results:\n",
      "  currency symbol exchange_name instrument_type first_trade_date  \\\n",
      "0     None   None          None            None             None   \n",
      "\n",
      "   regular_market_time  \n",
      "0                  NaN  \n"
     ]
    }
   ],
   "source": [
    "import json\n",
    "import duckdb\n",
    "\n",
    "# Load and print the contents of the JSON file for verification\n",
    "with open('C:\\\\Users\\\\diasn\\\\Documents\\\\medium\\\\duckdb_postgre\\\\resources\\\\stock_market_data\\\\forbes2000\\\\json\\\\AA-P.json') as f:\n",
    "    data = json.load(f)\n",
    "    print(\"Loaded JSON Data:\")\n",
    "    print(json.dumps(data, indent=2))  # Check JSON structure\n",
    "\n",
    "# Connect to a DuckDB database (or create one in-memory)\n",
    "con = duckdb.connect(database=':memory:')  # or 'your_database.db'\n",
    "\n",
    "# Create a table from the JSON data directly\n",
    "con.execute(\"CREATE TABLE chart AS SELECT * FROM read_json('C:\\\\Users\\\\diasn\\\\Documents\\\\medium\\\\duckdb_postgre\\\\resources\\\\stock_market_data\\\\forbes2000\\\\json\\\\AA-P.json')\")\n",
    "\n",
    "# Now, let's check the structure of the table\n",
    "df = con.execute(\"SELECT * FROM chart\").fetchdf()\n",
    "print(\"Raw Data from Table:\")\n",
    "print(df)\n",
    "\n",
    "# Attempt to extract specific fields with the correct path\n",
    "nested_query = \"\"\"\n",
    "    SELECT \n",
    "        result[0].meta.currency AS currency,\n",
    "        result[0].meta.symbol AS symbol,\n",
    "        result[0].meta.exchangeName AS exchange_name,\n",
    "        result[0].meta.instrumentType AS instrument_type,\n",
    "        result[0].meta.firstTradeDate AS first_trade_date,\n",
    "        result[0].meta.regularMarketTime AS regular_market_time\n",
    "    FROM (SELECT chart.chart.result AS result FROM chart)\n",
    "\"\"\"\n",
    "\n",
    "# Execute the nested query\n",
    "nested_df = con.execute(nested_query).fetchdf()\n",
    "print(\"Nested Query Results:\")\n",
    "print(nested_df)\n",
    "\n",
    "# Close the connection\n",
    "con.close()\n"
   ]
  },
  {
   "cell_type": "code",
   "execution_count": 72,
   "id": "45ab312f-c35a-47b1-98a8-9c5694f3639f",
   "metadata": {},
   "outputs": [
    {
     "data": {
      "text/html": [
       "<div>\n",
       "<style scoped>\n",
       "    .dataframe tbody tr th:only-of-type {\n",
       "        vertical-align: middle;\n",
       "    }\n",
       "\n",
       "    .dataframe tbody tr th {\n",
       "        vertical-align: top;\n",
       "    }\n",
       "\n",
       "    .dataframe thead th {\n",
       "        text-align: right;\n",
       "    }\n",
       "</style>\n",
       "<table border=\"1\" class=\"dataframe\">\n",
       "  <thead>\n",
       "    <tr style=\"text-align: right;\">\n",
       "      <th></th>\n",
       "      <th>currency</th>\n",
       "      <th>symbol</th>\n",
       "      <th>exchange_name</th>\n",
       "      <th>instrument_type</th>\n",
       "      <th>first_trade_date</th>\n",
       "      <th>regular_market_time</th>\n",
       "    </tr>\n",
       "  </thead>\n",
       "  <tbody>\n",
       "    <tr>\n",
       "      <th>0</th>\n",
       "      <td>None</td>\n",
       "      <td>None</td>\n",
       "      <td>None</td>\n",
       "      <td>None</td>\n",
       "      <td>None</td>\n",
       "      <td>NaN</td>\n",
       "    </tr>\n",
       "  </tbody>\n",
       "</table>\n",
       "</div>"
      ],
      "text/plain": [
       "  currency symbol exchange_name instrument_type first_trade_date  \\\n",
       "0     None   None          None            None             None   \n",
       "\n",
       "   regular_market_time  \n",
       "0                  NaN  "
      ]
     },
     "execution_count": 72,
     "metadata": {},
     "output_type": "execute_result"
    }
   ],
   "source": [
    "nested_df"
   ]
  },
  {
   "cell_type": "code",
   "execution_count": 57,
   "id": "7e3a8357-4ec8-4412-b1b4-f37df57e057b",
   "metadata": {},
   "outputs": [],
   "source": [
    "# Close the connection\n",
    "con.close()"
   ]
  },
  {
   "cell_type": "code",
   "execution_count": null,
   "id": "705ccb88-ccf1-4ca3-a721-7fa3c99fdc73",
   "metadata": {},
   "outputs": [],
   "source": []
  }
 ],
 "metadata": {
  "kernelspec": {
   "display_name": "Python 3 (ipykernel)",
   "language": "python",
   "name": "python3"
  },
  "language_info": {
   "codemirror_mode": {
    "name": "ipython",
    "version": 3
   },
   "file_extension": ".py",
   "mimetype": "text/x-python",
   "name": "python",
   "nbconvert_exporter": "python",
   "pygments_lexer": "ipython3",
   "version": "3.9.20"
  }
 },
 "nbformat": 4,
 "nbformat_minor": 5
}
