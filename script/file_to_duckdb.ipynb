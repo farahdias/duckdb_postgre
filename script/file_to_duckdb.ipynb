{
 "cells": [
  {
   "cell_type": "code",
   "execution_count": null,
   "id": "81691012-8137-4048-8087-0470f0648782",
   "metadata": {},
   "outputs": [],
   "source": [
    "path_folder = '../resource/stock_market_data'"
   ]
  },
  {
   "cell_type": "code",
   "execution_count": null,
   "id": "a18a8aca-7ffc-436e-9be2-d21c775a0593",
   "metadata": {},
   "outputs": [],
   "source": [
    "path_file = '../resource/stock_market_data/forbes2000/csv/AAALY.csv'"
   ]
  },
  {
   "cell_type": "code",
   "execution_count": null,
   "id": "14fb8cbf-7ad5-4515-a61e-35d0bc88ca78",
   "metadata": {},
   "outputs": [],
   "source": [
    "import duckdb\n",
    "\n",
    "# Create a DuckDB connection\n",
    "conn = duckdb.connect()\n",
    "directory_path = 'C:\\\\Users\\\\diasn\\\\Documents\\\\medium\\\\duckdb_postgre\\\\resources\\\\stock_market_data\\\\forbes2000\\\\csv\\\\*.csv'\n",
    "\n",
    "# Create a table from all CSV files\n",
    "conn.execute(f\"CREATE TABLE my_table AS SELECT * FROM read_csv('{directory_path}', union_by_name=True)\")\n",
    "\n",
    "# Execute a query\n",
    "result = conn.execute(\"SELECT * FROM my_table limit 100\").fetchdf()\n",
    "\n",
    "# Print the result\n",
    "print(result)\n"
   ]
  },
  {
   "cell_type": "code",
   "execution_count": null,
   "id": "a66da968-4186-4cde-9919-fbbcb8b9b1a3",
   "metadata": {},
   "outputs": [],
   "source": [
    "import duckdb\n",
    "import glob\n",
    "\n",
    "# Specify the path to your CSV files\n",
    "path_to_files = 'C:\\\\Users\\\\diasn\\\\Documents\\\\medium\\\\duckdb_postgre\\\\resources\\\\stock_market_data\\\\forbes2000\\\\csv\\\\*.csv'\n",
    "\n",
    "# Use glob to find all CSV files in the specified directory\n",
    "files = glob.glob(path_to_files)"
   ]
  },
  {
   "cell_type": "code",
   "execution_count": null,
   "id": "2e37610a-979a-4b11-8298-539be5b56170",
   "metadata": {},
   "outputs": [],
   "source": [
    "import os\n",
    "file_name = os.path.basename(\"C:\\\\Users\\\\diasn\\\\Documents\\\\medium\\\\duckdb_postgre\\\\resources\\\\stock_market_data\\\\forbes2000\\\\csv\\\\A.csv\")"
   ]
  },
  {
   "cell_type": "code",
   "execution_count": null,
   "id": "3ce3832e-cea2-4f8d-994b-6e7982510b30",
   "metadata": {},
   "outputs": [],
   "source": [
    "file_name = []\n",
    "for file_path in files:\n",
    "    file_base = os.path.basename(file_path)\n",
    "    file_name.append(file_base)"
   ]
  },
  {
   "cell_type": "code",
   "execution_count": null,
   "id": "cfeb3b4b-91e4-48e9-af0a-304e5b784aae",
   "metadata": {},
   "outputs": [],
   "source": [
    "#put 100 companies files for memory issue\n",
    "files = files[:100]\n",
    "file_name = file_name[:100]"
   ]
  },
  {
   "cell_type": "code",
   "execution_count": null,
   "id": "77a1b169-3d93-481b-8d76-a53c4e0ae20d",
   "metadata": {},
   "outputs": [],
   "source": [
    "conn = duckdb.connect()\n",
    "queries = []\n",
    "for path_file, file in zip(files, file_name):\n",
    "    queries.append(f\"SELECT replace('{file}','.csv','') AS company_id, *  FROM read_csv('{path_file}', union_by_name=True)\")\n",
    "    \n",
    "final_query = \" UNION ALL \".join(queries)\n",
    "conn.execute(f\"SET max_expression_depth TO 2000\")\n",
    "conn.execute(f\"CREATE TABLE forbes2000_from_csv AS {final_query}\")\n",
    "\n"
   ]
  },
  {
   "cell_type": "code",
   "execution_count": null,
   "id": "da19e4d5-b176-4dc7-9a2c-20e61e3c93af",
   "metadata": {},
   "outputs": [],
   "source": [
    "results = conn.execute(\"SELECT * from forbes2000_from_csv limit 100\").fetchdf()\n",
    "results.head(10)"
   ]
  },
  {
   "cell_type": "code",
   "execution_count": null,
   "id": "4c2c6dd3-dafb-40b3-a1dd-888014b7bca4",
   "metadata": {},
   "outputs": [],
   "source": [
    "conn.close()"
   ]
  },
  {
   "cell_type": "code",
   "execution_count": null,
   "id": "ebac8a9d-0bb9-42cf-8f8a-24972bbefc5f",
   "metadata": {},
   "outputs": [],
   "source": [
    "# Create a DuckDB connection\n",
    "\n",
    "\n",
    "# Initialize an empty list to hold queries\n",
    "queries = []\n",
    "\n",
    "# Construct the query for each file to include the filename\n",
    "for file in files:\n",
    "    queries.append(f\"SELECT *, '{file}' AS filename FROM read_csv_auto('{file}')\")\n",
    "\n",
    "# Combine all queries with UNION ALL\n",
    "final_query = \" UNION ALL \".join(queries)\n",
    "\n",
    "# Execute the combined query\n",
    "result_df = conn.execute(final_query).fetchdf()\n",
    "\n",
    "\n"
   ]
  },
  {
   "cell_type": "code",
   "execution_count": null,
   "id": "5abf2dbb-bb10-483e-9738-b5ace2170cab",
   "metadata": {},
   "outputs": [],
   "source": []
  }
 ],
 "metadata": {
  "kernelspec": {
   "display_name": "Python 3 (ipykernel)",
   "language": "python",
   "name": "python3"
  },
  "language_info": {
   "codemirror_mode": {
    "name": "ipython",
    "version": 3
   },
   "file_extension": ".py",
   "mimetype": "text/x-python",
   "name": "python",
   "nbconvert_exporter": "python",
   "pygments_lexer": "ipython3",
   "version": "3.9.20"
  }
 },
 "nbformat": 4,
 "nbformat_minor": 5
}
