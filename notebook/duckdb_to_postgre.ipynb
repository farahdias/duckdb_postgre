{
 "cells": [
  {
   "cell_type": "code",
   "execution_count": 3,
   "id": "6b543362-ac25-440e-9993-64607f016d78",
   "metadata": {},
   "outputs": [],
   "source": [
    "import duckdb\n",
    "import psycopg2"
   ]
  },
  {
   "cell_type": "code",
   "execution_count": 6,
   "id": "f9a532a3-20c6-438c-9afc-f7b5a415daba",
   "metadata": {},
   "outputs": [],
   "source": [
    "# Connect to DuckDB\n",
    "conn = duckdb.connect('exercise.db')"
   ]
  },
  {
   "cell_type": "code",
   "execution_count": 9,
   "id": "adabf0b3-e172-41e4-908e-a2cce78b0d9b",
   "metadata": {},
   "outputs": [
    {
     "data": {
      "text/plain": [
       "<duckdb.duckdb.DuckDBPyConnection at 0x219d290ceb0>"
      ]
     },
     "execution_count": 9,
     "metadata": {},
     "output_type": "execute_result"
    }
   ],
   "source": [
    "conn.execute(\"\"\"\n",
    "INSTALL postgres;\n",
    "LOAD postgres;\n",
    "ATTACH 'dbname=postgres user=postgres password=Password04! host=127.0.0.1' AS db (TYPE POSTGRES, SCHEMA 'public');\n",
    "\"\"\")"
   ]
  },
  {
   "cell_type": "code",
   "execution_count": 11,
   "id": "fd55a825-a328-4df9-8847-4358ad36700d",
   "metadata": {},
   "outputs": [
    {
     "data": {
      "text/plain": [
       "<duckdb.duckdb.DuckDBPyConnection at 0x219d290ceb0>"
      ]
     },
     "execution_count": 11,
     "metadata": {},
     "output_type": "execute_result"
    }
   ],
   "source": [
    "#insert country table as reference \n",
    "conn.execute(\"\"\"\n",
    "INSERT INTO db.country \n",
    "SELECT \n",
    "*\n",
    "FROM country\n",
    "\"\"\")"
   ]
  },
  {
   "cell_type": "code",
   "execution_count": 13,
   "id": "34f635ae-776e-4b69-8e47-6693511ec16f",
   "metadata": {},
   "outputs": [
    {
     "data": {
      "text/plain": [
       "<duckdb.duckdb.DuckDBPyConnection at 0x219d290ceb0>"
      ]
     },
     "execution_count": 13,
     "metadata": {},
     "output_type": "execute_result"
    }
   ],
   "source": [
    "#insert restaurants as reference \n",
    "conn.execute(\"\"\"\n",
    "INSERT INTO db.restaurants \n",
    "SELECT \n",
    "*\n",
    "FROM resturants\n",
    "\"\"\")"
   ]
  },
  {
   "cell_type": "code",
   "execution_count": 24,
   "id": "bf040656-4ce2-4434-9cf7-d658d54b498b",
   "metadata": {},
   "outputs": [
    {
     "data": {
      "text/plain": [
       "<duckdb.duckdb.DuckDBPyConnection at 0x219d290ceb0>"
      ]
     },
     "execution_count": 24,
     "metadata": {},
     "output_type": "execute_result"
    }
   ],
   "source": [
    "#insert restaurants_details as reference \n",
    "conn.execute(\"\"\"\n",
    "INSERT INTO db.resturants_details \n",
    "SELECT \n",
    "    has_online_delivery\n",
    "    ,photos_url\n",
    "    ,url\n",
    "    ,price_range\n",
    "    ,apikey\n",
    "    ,rating_text\n",
    "    ,rating_color\n",
    "    ,votes\n",
    "    ,aggregate_rating\n",
    "    ,res_id\n",
    "    ,name\n",
    "    ,has_table_booking\n",
    "    ,is_delivering_now\n",
    "    ,deeplink\n",
    "    ,menu_url\n",
    "    ,average_cost_for_two\n",
    "    ,switch_to_order_menu\n",
    "    ,cuisines\n",
    "    ,latitude\n",
    "    ,address\n",
    "    ,city\n",
    "    ,country_id\n",
    "    ,locality_verbose\n",
    "    ,city_id\n",
    "    ,zipcode\n",
    "    ,longitude\n",
    "    ,locality\n",
    "    ,featured_image\n",
    "    ,currency\n",
    "    ,id\n",
    "    ,thumb\n",
    "    ,events_url\n",
    "    ,book_url\n",
    "    ,order_deeplink\n",
    "    ,order_url\n",
    "FROM resturants_details\n",
    "where res_id in (select \"Restaurant ID\" from resturants)\n",
    "\"\"\")"
   ]
  },
  {
   "cell_type": "code",
   "execution_count": 25,
   "id": "db7fb78d-5119-4542-9bcc-0a7b7a473912",
   "metadata": {},
   "outputs": [],
   "source": [
    "conn.close()"
   ]
  },
  {
   "cell_type": "code",
   "execution_count": null,
   "id": "d3c85128-effb-4285-b9b6-31d12e375276",
   "metadata": {},
   "outputs": [],
   "source": []
  }
 ],
 "metadata": {
  "kernelspec": {
   "display_name": "Python 3 (ipykernel)",
   "language": "python",
   "name": "python3"
  },
  "language_info": {
   "codemirror_mode": {
    "name": "ipython",
    "version": 3
   },
   "file_extension": ".py",
   "mimetype": "text/x-python",
   "name": "python",
   "nbconvert_exporter": "python",
   "pygments_lexer": "ipython3",
   "version": "3.9.20"
  }
 },
 "nbformat": 4,
 "nbformat_minor": 5
}
