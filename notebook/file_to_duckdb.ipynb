{
 "cells": [
  {
   "cell_type": "code",
   "execution_count": 1,
   "id": "a66da968-4186-4cde-9919-fbbcb8b9b1a3",
   "metadata": {},
   "outputs": [],
   "source": [
    "#import the requirement\n",
    "import duckdb\n",
    "import glob\n",
    "import pandas as pd"
   ]
  },
  {
   "cell_type": "code",
   "execution_count": 2,
   "id": "cafd4f68-9432-4753-9529-e87b46102dbe",
   "metadata": {},
   "outputs": [],
   "source": [
    "#specify the path to the file\n",
    "path_data = 'C:\\\\Users\\\\diasn\\\\Documents\\\\medium\\\\duckdb_postgre\\\\resources\\\\data\\\\'"
   ]
  },
  {
   "cell_type": "code",
   "execution_count": 3,
   "id": "a905c6ae-0d1b-4395-b235-7ac89f1c9316",
   "metadata": {},
   "outputs": [],
   "source": [
    "# Connect to an in-memory DuckDB database\n",
    "conn = duckdb.connect(\"exercise.db\")"
   ]
  },
  {
   "cell_type": "code",
   "execution_count": 4,
   "id": "79e18dd0-c8fd-41bc-bf79-947dd93e9795",
   "metadata": {},
   "outputs": [
    {
     "data": {
      "text/plain": [
       "<duckdb.duckdb.DuckDBPyConnection at 0x14b9c3a13f0>"
      ]
     },
     "execution_count": 4,
     "metadata": {},
     "output_type": "execute_result"
    }
   ],
   "source": [
    "#load the all JSON Files\n",
    "conn.execute(\"\"\"\n",
    "CREATE TABLE resturants_details as\n",
    "SELECT \n",
    "unnest(restaurants, recursive := true)\n",
    "FROM read_json_auto('{}*.json')\n",
    "where \n",
    " results_found is not null\n",
    "\"\"\".format(path_data))"
   ]
  },
  {
   "cell_type": "code",
   "execution_count": 5,
   "id": "606250fa-aa48-4320-a09c-e6beda31a165",
   "metadata": {},
   "outputs": [
    {
     "data": {
      "text/plain": [
       "<duckdb.duckdb.DuckDBPyConnection at 0x14b9c3a13f0>"
      ]
     },
     "execution_count": 5,
     "metadata": {},
     "output_type": "execute_result"
    }
   ],
   "source": [
    "#load the CSV Files\n",
    "conn.execute(\"\"\"\n",
    "CREATE TABLE resturants as\n",
    "SELECT \n",
    "*\n",
    "FROM read_csv('{}*.csv', ignore_errors=true)\n",
    "\"\"\".format(path_data))"
   ]
  },
  {
   "cell_type": "code",
   "execution_count": 6,
   "id": "16f4b4e8-58b3-4f7f-9d3f-fc77fb7548b6",
   "metadata": {},
   "outputs": [
    {
     "data": {
      "text/plain": [
       "<duckdb.duckdb.DuckDBPyConnection at 0x14b9c3a13f0>"
      ]
     },
     "execution_count": 6,
     "metadata": {},
     "output_type": "execute_result"
    }
   ],
   "source": [
    "conn.execute(\"\"\"\n",
    "INSTALL spatial;\n",
    "LOAD spatial;\n",
    "CREATE TABLE country as\n",
    "SELECT \n",
    "*\n",
    "FROM st_read('{}Country-Code.xlsx')\n",
    "\"\"\".format(path_data))"
   ]
  },
  {
   "cell_type": "code",
   "execution_count": 7,
   "id": "7e3a8357-4ec8-4412-b1b4-f37df57e057b",
   "metadata": {},
   "outputs": [],
   "source": [
    "# Close the connection\n",
    "conn.close()"
   ]
  },
  {
   "cell_type": "code",
   "execution_count": null,
   "id": "705ccb88-ccf1-4ca3-a721-7fa3c99fdc73",
   "metadata": {},
   "outputs": [],
   "source": []
  }
 ],
 "metadata": {
  "kernelspec": {
   "display_name": "Python 3 (ipykernel)",
   "language": "python",
   "name": "python3"
  },
  "language_info": {
   "codemirror_mode": {
    "name": "ipython",
    "version": 3
   },
   "file_extension": ".py",
   "mimetype": "text/x-python",
   "name": "python",
   "nbconvert_exporter": "python",
   "pygments_lexer": "ipython3",
   "version": "3.9.20"
  }
 },
 "nbformat": 4,
 "nbformat_minor": 5
}
